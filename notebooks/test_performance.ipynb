{
 "cells": [
  {
   "cell_type": "code",
   "execution_count": 1,
   "metadata": {},
   "outputs": [],
   "source": [
    "import sys\n",
    "sys.path.append(\"../\")\n",
    "\n",
    "import torch\n",
    "import timeit\n",
    "import numpy as np\n",
    "import pickle\n",
    "from models.RDPG_GD_Unroll_unshared_normalized_v2 import GD_Unroll as GD_Unroll_w_norm\n",
    "from models.RDPG_GD import RDPG_GD_Armijo, coordinate_descent\n",
    "from models.SVD_truncate import embed_scipy\n",
    "from torch_geometric.utils import to_dense_adj, stochastic_blockmodel_graph, erdos_renyi_graph\n",
    "import matplotlib.pyplot as plt\n",
    "\n",
    "import seaborn as sns"
   ]
  },
  {
   "cell_type": "code",
   "execution_count": 2,
   "metadata": {},
   "outputs": [],
   "source": [
    "## Load model\n",
    "\n",
    "device = 'cuda'\n",
    "d = 3\n",
    "gd_steps = 5\n",
    "\n",
    "lase_full = GD_Unroll_w_norm(d, d, gd_steps)\n",
    "lase_full.load_state_dict(torch.load('../saved_models/lase_unshared_d3_normalized__full.pt'))\n",
    "lase_full.to(device)\n",
    "lase_full.eval()\n",
    "\n",
    "lase_ER05 = GD_Unroll_w_norm(d, d, gd_steps)\n",
    "lase_ER05.load_state_dict(torch.load('../saved_models/lase_unshared_d3_normalized__ER05.pt'))\n",
    "lase_ER05.to(device)\n",
    "lase_ER05.eval()\n",
    "\n",
    "lase_ER03 = GD_Unroll_w_norm(d, d, gd_steps)\n",
    "lase_ER03.load_state_dict(torch.load('../saved_models/lase_unshared_d3_normalized__ER03.pt'))\n",
    "lase_ER03.to(device)\n",
    "lase_ER03.eval()\n",
    "\n",
    "def measure_execution_time(func, *args, loops=5, repetitions=5) -> float:\n",
    "    best_time = float('inf')\n",
    "    for _ in range(repetitions):\n",
    "        loop_time = timeit.timeit(lambda: func(*args), number=loops)\n",
    "        best_time = min(best_time, loop_time / loops)\n",
    "    return best_time\n",
    "\n",
    "p = [\n",
    "     [0.5, 0.1, 0.3],\n",
    "     [0.1, 0.9, 0.2], \n",
    "     [0.3, 0.2, 0.7]\n",
    "]"
   ]
  },
  {
   "cell_type": "markdown",
   "metadata": {},
   "source": [
    "# SVD"
   ]
  },
  {
   "cell_type": "code",
   "execution_count": 3,
   "metadata": {},
   "outputs": [
    {
     "name": "stdout",
     "output_type": "stream",
     "text": [
      "500\n",
      "Best execution time over 5 repetitions: 0.04522535 seconds\n",
      "1000\n",
      "Best execution time over 5 repetitions: 0.02973399 seconds\n",
      "1500\n",
      "Best execution time over 5 repetitions: 0.06064570 seconds\n",
      "2000\n",
      "Best execution time over 5 repetitions: 0.10909492 seconds\n",
      "2500\n",
      "Best execution time over 5 repetitions: 0.17129105 seconds\n",
      "3000\n",
      "Best execution time over 5 repetitions: 0.24704140 seconds\n",
      "3500\n",
      "Best execution time over 5 repetitions: 0.37045051 seconds\n",
      "4000\n",
      "Best execution time over 5 repetitions: 0.43052906 seconds\n",
      "4500\n",
      "Best execution time over 5 repetitions: 0.53941179 seconds\n",
      "5000\n",
      "Best execution time over 5 repetitions: 0.64002103 seconds\n"
     ]
    }
   ],
   "source": [
    "nodes = np.arange(5,55,5)*100\n",
    "\n",
    "svd_exec_time = []\n",
    "\n",
    "for num_nodes in nodes:\n",
    "    print(num_nodes)\n",
    "    n = [int(num_nodes/3), int(num_nodes/3), int(num_nodes/3)]\n",
    "    edge_index = stochastic_blockmodel_graph(n, p)\n",
    "    best_time = measure_execution_time(embed_scipy, edge_index, d, device)\n",
    "    svd_exec_time.append(best_time)\n",
    "    print(f\"Best execution time over 5 repetitions: {best_time:.8f} seconds\")"
   ]
  },
  {
   "cell_type": "code",
   "execution_count": 12,
   "metadata": {},
   "outputs": [],
   "source": [
    "with open('../data/svd_performance.pkl', 'wb') as f:\n",
    "    pickle.dump(svd_exec_time, f)"
   ]
  },
  {
   "cell_type": "markdown",
   "metadata": {},
   "source": [
    "# Coordinate GD"
   ]
  },
  {
   "cell_type": "code",
   "execution_count": 4,
   "metadata": {},
   "outputs": [
    {
     "name": "stdout",
     "output_type": "stream",
     "text": [
      "500\n",
      "Best execution time over 5 repetitions: 0.20343107 seconds\n",
      "1000\n",
      "Best execution time over 5 repetitions: 0.40929902 seconds\n",
      "1500\n",
      "Best execution time over 5 repetitions: 0.61030412 seconds\n",
      "2000\n",
      "Best execution time over 5 repetitions: 0.83075829 seconds\n",
      "2500\n",
      "Best execution time over 5 repetitions: 1.13172004 seconds\n",
      "3000\n",
      "Best execution time over 5 repetitions: 1.26280253 seconds\n",
      "3500\n",
      "Best execution time over 5 repetitions: 1.71190278 seconds\n",
      "4000\n",
      "Best execution time over 5 repetitions: 1.95409945 seconds\n",
      "4500\n",
      "Best execution time over 5 repetitions: 2.21992135 seconds\n",
      "5000\n",
      "Best execution time over 5 repetitions: 2.48500740 seconds\n"
     ]
    }
   ],
   "source": [
    "nodes = np.arange(5,55,5)*100\n",
    "\n",
    "cgd_exec_time = []\n",
    "\n",
    "for num_nodes in nodes:\n",
    "    print(num_nodes)\n",
    "    n = [int(num_nodes/3), int(num_nodes/3), num_nodes - 2*int(num_nodes/3)]\n",
    "    edge_index = stochastic_blockmodel_graph(n, p).to(device)\n",
    "    mask = torch.ones([num_nodes,num_nodes],).nonzero().t().contiguous().to(device)\n",
    "    best_time = measure_execution_time(coordinate_descent, edge_index, mask, d, device)\n",
    "    cgd_exec_time.append(best_time)\n",
    "    print(f\"Best execution time over 5 repetitions: {best_time:.8f} seconds\")"
   ]
  },
  {
   "cell_type": "code",
   "execution_count": 5,
   "metadata": {},
   "outputs": [],
   "source": [
    "with open('../data/coord_gd_performance.pkl', 'wb') as f:\n",
    "    pickle.dump(cgd_exec_time, f)"
   ]
  },
  {
   "cell_type": "markdown",
   "metadata": {},
   "source": [
    "# LASE Full"
   ]
  },
  {
   "cell_type": "code",
   "execution_count": 58,
   "metadata": {},
   "outputs": [
    {
     "name": "stdout",
     "output_type": "stream",
     "text": [
      "500\n",
      "Best execution time over 5 repetitions: 0.02005730 seconds\n",
      "1000\n",
      "Best execution time over 5 repetitions: 0.05363282 seconds\n",
      "1500\n",
      "Best execution time over 5 repetitions: 0.10523354 seconds\n",
      "2000\n",
      "Best execution time over 5 repetitions: 0.17249300 seconds\n",
      "2500\n",
      "Best execution time over 5 repetitions: 0.25885197 seconds\n",
      "3000\n",
      "Best execution time over 5 repetitions: 0.35988931 seconds\n",
      "3500\n",
      "Best execution time over 5 repetitions: 0.48306959 seconds\n",
      "4000\n",
      "Best execution time over 5 repetitions: 0.62010075 seconds\n",
      "4500\n",
      "Best execution time over 5 repetitions: 0.77745784 seconds\n",
      "5000\n",
      "Best execution time over 5 repetitions: 0.94819430 seconds\n"
     ]
    }
   ],
   "source": [
    "nodes = np.arange(5,55,5)*100\n",
    "\n",
    "lase_full_exec_time = []\n",
    "\n",
    "for num_nodes in nodes:\n",
    "    print(num_nodes)\n",
    "    n = [int(num_nodes/3), int(num_nodes/3), num_nodes - 2*int(num_nodes/3)]\n",
    "    x = torch.rand((num_nodes, d)).to(device)\n",
    "    edge_index = stochastic_blockmodel_graph(n, p).to(device)\n",
    "    edge_index_2 = torch.ones([num_nodes,num_nodes],).nonzero().t().contiguous().to(device)\n",
    "    mask = torch.ones([num_nodes,num_nodes],).nonzero().t().contiguous().to(device)\n",
    "    best_time = measure_execution_time(lase_full, x, edge_index, edge_index_2, mask)\n",
    "    lase_full_exec_time.append(best_time)\n",
    "    print(f\"Best execution time over 5 repetitions: {best_time:.8f} seconds\")"
   ]
  },
  {
   "cell_type": "code",
   "execution_count": 59,
   "metadata": {},
   "outputs": [],
   "source": [
    "with open('../data/lase_full_performance.pkl', 'wb') as f:\n",
    "    pickle.dump(lase_full_exec_time, f)"
   ]
  },
  {
   "cell_type": "code",
   "execution_count": 13,
   "metadata": {},
   "outputs": [
    {
     "data": {
      "image/png": "[encoded data removed]",
      "text/plain": [
       "<Figure size 640x480 with 1 Axes>"
      ]
     },
     "metadata": {},
     "output_type": "display_data"
    }
   ],
   "source": [
    "with open('../data/svd_performance.pkl', 'rb') as f:\n",
    "    svd_exec_time = pickle.load(f)\n",
    "\n",
    "with open('../data/coord_gd_performance.pkl', 'rb') as f:\n",
    "    cgd_exec_time = pickle.load(f)\n",
    "\n",
    "with open('../data/lase_full_performance.pkl', 'rb') as f:\n",
    "    lase_full_exec_time = pickle.load(f)\n",
    "\n",
    "plt.figure()\n",
    "plt.scatter(nodes, svd_exec_time, c ='blue', label = 'SVD Truncate')\n",
    "plt.plot(nodes, svd_exec_time, c ='blue')\n",
    "plt.scatter(nodes, cgd_exec_time, c ='green', label = 'Coordinate GD')\n",
    "plt.plot(nodes, cgd_exec_time, c ='green')\n",
    "plt.scatter(nodes, lase_full_exec_time, c ='red', label = 'LASE Full Attention')\n",
    "plt.plot(nodes, lase_full_exec_time, c ='red')\n",
    "plt.legend()\n",
    "plt.show()"
   ]
  },
  {
   "cell_type": "markdown",
   "metadata": {},
   "source": [
    "For nodes > 5000 we do not have enough GPU compute, so we need to run on CPU"
   ]
  },
  {
   "cell_type": "code",
   "execution_count": 23,
   "metadata": {},
   "outputs": [
    {
     "name": "stdout",
     "output_type": "stream",
     "text": [
      "5000\n",
      "Best execution time over 5 repetitions: 8.25732689 seconds\n",
      "6000\n",
      "Best execution time over 5 repetitions: 11.95300788 seconds\n",
      "7000\n",
      "Best execution time over 5 repetitions: 16.31878564 seconds\n",
      "8000\n",
      "Best execution time over 5 repetitions: 21.34957191 seconds\n",
      "9000\n"
     ]
    }
   ],
   "source": [
    "nodes = np.arange(5,16)*1000\n",
    "device = 'cpu'\n",
    "\n",
    "lase_full.to(device)\n",
    "\n",
    "lase_full_exec_time = []\n",
    "\n",
    "for num_nodes in nodes:\n",
    "    print(num_nodes)\n",
    "    n = [int(num_nodes/3), int(num_nodes/3), num_nodes - 2*int(num_nodes/3)]\n",
    "    x = torch.rand((num_nodes, d)).to(device)\n",
    "    edge_index = stochastic_blockmodel_graph(n, p).to(device)\n",
    "    edge_index_2 = torch.ones([num_nodes,num_nodes],).nonzero().t().contiguous().to(device)\n",
    "    mask = torch.ones([num_nodes,num_nodes],).nonzero().t().contiguous().to(device)\n",
    "    best_time = measure_execution_time(lase_full, x, edge_index, edge_index_2, mask)\n",
    "    lase_full_exec_time.append(best_time)\n",
    "    print(f\"Best execution time over 5 repetitions: {best_time:.8f} seconds\")\n",
    "\n",
    "\n",
    "with open('../data/lase_full_performance_2.pkl', 'wb') as f:\n",
    "    pickle.dump(lase_full_exec_time, f)"
   ]
  }
 ],
 "metadata": {
  "kernelspec": {
   "display_name": "lase",
   "language": "python",
   "name": "python3"
  },
  "language_info": {
   "codemirror_mode": {
    "name": "ipython",
    "version": 3
   },
   "file_extension": ".py",
   "mimetype": "text/x-python",
   "name": "python",
   "nbconvert_exporter": "python",
   "pygments_lexer": "ipython3",
   "version": "3.10.12"
  },
  "orig_nbformat": 4
 },
 "nbformat": 4,
 "nbformat_minor": 2
}
