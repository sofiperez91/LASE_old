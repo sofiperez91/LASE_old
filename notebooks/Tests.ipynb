{
 "cells": [
  {
   "cell_type": "code",
   "execution_count": 1,
   "metadata": {},
   "outputs": [],
   "source": [
    "import sys\n",
    "sys.path.append(\"../\")\n",
    "\n",
    "import torch\n",
    "from models.RDPG_GD_Unroll_shared_restricted import GD_Unroll\n",
    "from models.RDPG_GD import RDPG_GD_Armijo\n",
    "from torch_geometric.utils import to_dense_adj, stochastic_blockmodel_graph\n",
    "import matplotlib.pyplot as plt\n",
    "import seaborn as sns"
   ]
  },
  {
   "cell_type": "markdown",
   "metadata": {},
   "source": [
    "# LASE Model\n",
    "\n",
    "The model consists of concatenatig $k$ layers of LASE Block.\n",
    "\n",
    "**LASE Block**\n",
    "\n",
    "$X^{k+1}\\rightarrow X^kW_0 + AX^kW_1 + X^kW_3(X^kW_4)^TX^kW_2$"
   ]
  },
  {
   "cell_type": "markdown",
   "metadata": {},
   "source": [
    "## Test 1\n",
    "\n",
    "- Training set consisted of multiple realizations of SBM-2 with different symetric distributions; num_nodes = 500\n",
    "- Embedding dimension: d = 2\n",
    "- Layers: k = 20\n",
    "- Model parameters: \n",
    "    - Shared weights \n",
    "    - With restrictions over $W_2$, $W_3$ and $W_4$ ($W_2$ and $W_3$ diagonal matrixes; $W_4$ nule)\n",
    "    - Fixed $W_0$, $W_3$ and $W_4$ \n"
   ]
  },
  {
   "cell_type": "code",
   "execution_count": 40,
   "metadata": {},
   "outputs": [
    {
     "data": {
      "text/plain": [
       "GD_Unroll(\n",
       "  (gd): GD_Block(\n",
       "    (gcn): TAGConv(2, 2, K=1)\n",
       "    (gat): Transformer_Block()\n",
       "  )\n",
       ")"
      ]
     },
     "execution_count": 40,
     "metadata": {},
     "output_type": "execute_result"
    }
   ],
   "source": [
    "in_channels = 2\n",
    "out_channels = 2\n",
    "gd_steps = 5\n",
    "device = 'cpu'\n",
    "\n",
    "lase = GD_Unroll(in_channels, out_channels, gd_steps)\n",
    "lase.load_state_dict(torch.load('../saved_models/ugd_sim_ini_fix_d2.pt'))\n",
    "lase.to(device)\n",
    "lase.eval()"
   ]
  },
  {
   "cell_type": "code",
   "execution_count": 45,
   "metadata": {},
   "outputs": [
    {
     "ename": "KeyboardInterrupt",
     "evalue": "",
     "output_type": "error",
     "traceback": [
      "\u001b[0;31m---------------------------------------------------------------------------\u001b[0m",
      "\u001b[0;31mKeyboardInterrupt\u001b[0m                         Traceback (most recent call last)",
      "Cell \u001b[0;32mIn[45], line 13\u001b[0m\n\u001b[1;32m      9\u001b[0m edge_index_2 \u001b[39m=\u001b[39m torch\u001b[39m.\u001b[39mones([num_nodes,num_nodes],)\u001b[39m.\u001b[39mnonzero()\u001b[39m.\u001b[39mt()\u001b[39m.\u001b[39mcontiguous()\n\u001b[1;32m     10\u001b[0m x \u001b[39m=\u001b[39m torch\u001b[39m.\u001b[39mrand(num_nodes,d)\u001b[39m.\u001b[39mto(device)\n\u001b[0;32m---> 13\u001b[0m x_gd, cost_gd, \u001b[39miter\u001b[39m \u001b[39m=\u001b[39m RDPG_GD_Armijo(x\u001b[39m.\u001b[39;49msqueeze(\u001b[39m0\u001b[39;49m), edge_index)\n\u001b[1;32m     14\u001b[0m x_gd \u001b[39m=\u001b[39m x_gd\u001b[39m.\u001b[39mto(device)\n\u001b[1;32m     15\u001b[0m loss \u001b[39m=\u001b[39m torch\u001b[39m.\u001b[39mnorm((x_gd\u001b[39m@x_gd\u001b[39m\u001b[39m.\u001b[39mT \u001b[39m-\u001b[39m to_dense_adj(edge_index)\u001b[39m.\u001b[39msqueeze(\u001b[39m0\u001b[39m)))\n",
      "File \u001b[0;32m~/lase/repo/LASE/notebooks/../models/RDPG_GD.py:48\u001b[0m, in \u001b[0;36mRDPG_GD_Armijo\u001b[0;34m(x, edge_index, tol, max_iter)\u001b[0m\n\u001b[1;32m     43\u001b[0m tol \u001b[39m=\u001b[39m tol\u001b[39m*\u001b[39m(torch\u001b[39m.\u001b[39mnorm(d))\n\u001b[1;32m     45\u001b[0m \u001b[39mwhile\u001b[39;00m (torch\u001b[39m.\u001b[39mnorm(d) \u001b[39m>\u001b[39m tol) \u001b[39m&\u001b[39m (last_jump \u001b[39m>\u001b[39m \u001b[39m1e-16\u001b[39m) \u001b[39m&\u001b[39m (k\u001b[39m<\u001b[39mmax_iter):\n\u001b[1;32m     46\u001b[0m \n\u001b[1;32m     47\u001b[0m     \u001b[39m# Armijo \u001b[39;00m\n\u001b[0;32m---> 48\u001b[0m     \u001b[39mwhile\u001b[39;00m (RDPG_cost(xd\u001b[39m+\u001b[39;49mt\u001b[39m*\u001b[39;49md,A) \u001b[39m>\u001b[39m RDPG_cost(xd,A) \u001b[39m-\u001b[39m sigma\u001b[39m*\u001b[39mt\u001b[39m*\u001b[39mtorch\u001b[39m.\u001b[39mnorm(d)\u001b[39m*\u001b[39m\u001b[39m*\u001b[39m\u001b[39m2\u001b[39m):\n\u001b[1;32m     49\u001b[0m         t\u001b[39m=\u001b[39mb\u001b[39m*\u001b[39mt\n\u001b[1;32m     51\u001b[0m     xd \u001b[39m=\u001b[39m xd\u001b[39m+\u001b[39mt\u001b[39m*\u001b[39md\n",
      "File \u001b[0;32m~/lase/repo/LASE/notebooks/../models/RDPG_GD.py:9\u001b[0m, in \u001b[0;36mRDPG_cost\u001b[0;34m(x, A)\u001b[0m\n\u001b[1;32m      7\u001b[0m \u001b[39mdef\u001b[39;00m \u001b[39mRDPG_cost\u001b[39m(x, A):\n\u001b[0;32m----> 9\u001b[0m     \u001b[39mreturn\u001b[39;00m \u001b[39m0.5\u001b[39m\u001b[39m*\u001b[39mtorch\u001b[39m.\u001b[39;49mnorm(x\u001b[39m@x\u001b[39;49m\u001b[39m.\u001b[39;49mT \u001b[39m-\u001b[39;49m A)\u001b[39m*\u001b[39m\u001b[39m*\u001b[39m\u001b[39m2\u001b[39m\n",
      "File \u001b[0;32m~/lase/lib/python3.10/site-packages/torch/functional.py:1387\u001b[0m, in \u001b[0;36mnorm\u001b[0;34m(input, p, dim, keepdim, out, dtype)\u001b[0m\n\u001b[1;32m   1381\u001b[0m     \u001b[39m@overload\u001b[39m  \u001b[39m# noqa: F811\u001b[39;00m\n\u001b[1;32m   1382\u001b[0m     \u001b[39mdef\u001b[39;00m \u001b[39mnorm\u001b[39m(\u001b[39minput\u001b[39m, p\u001b[39m=\u001b[39m\u001b[39m\"\u001b[39m\u001b[39mfro\u001b[39m\u001b[39m\"\u001b[39m, dim\u001b[39m=\u001b[39m\u001b[39mNone\u001b[39;00m, keepdim\u001b[39m=\u001b[39m\u001b[39mFalse\u001b[39;00m, out\u001b[39m=\u001b[39m\u001b[39mNone\u001b[39;00m, dtype\u001b[39m=\u001b[39m\u001b[39mNone\u001b[39;00m):  \u001b[39m# noqa: F811\u001b[39;00m\n\u001b[1;32m   1383\u001b[0m         \u001b[39m# type: (Tensor, str, Optional[int], bool, Optional[Tensor], Optional[int]) -> Tensor\u001b[39;00m\n\u001b[1;32m   1384\u001b[0m         \u001b[39mpass\u001b[39;00m\n\u001b[0;32m-> 1387\u001b[0m \u001b[39mdef\u001b[39;00m \u001b[39mnorm\u001b[39m(\u001b[39minput\u001b[39m, p: Optional[Union[\u001b[39mfloat\u001b[39m, \u001b[39mstr\u001b[39m]] \u001b[39m=\u001b[39m \u001b[39m\"\u001b[39m\u001b[39mfro\u001b[39m\u001b[39m\"\u001b[39m, dim\u001b[39m=\u001b[39m\u001b[39mNone\u001b[39;00m, keepdim\u001b[39m=\u001b[39m\u001b[39mFalse\u001b[39;00m, out\u001b[39m=\u001b[39m\u001b[39mNone\u001b[39;00m, dtype\u001b[39m=\u001b[39m\u001b[39mNone\u001b[39;00m):  \u001b[39m# noqa: F811\u001b[39;00m\n\u001b[1;32m   1388\u001b[0m \u001b[39m    \u001b[39m\u001b[39mr\u001b[39m\u001b[39m\"\"\"Returns the matrix norm or vector norm of a given tensor.\u001b[39;00m\n\u001b[1;32m   1389\u001b[0m \n\u001b[1;32m   1390\u001b[0m \u001b[39m    .. warning::\u001b[39;00m\n\u001b[0;32m   (...)\u001b[0m\n\u001b[1;32m   1478\u001b[0m \u001b[39m        (tensor(3.7417), tensor(11.2250))\u001b[39;00m\n\u001b[1;32m   1479\u001b[0m \u001b[39m    \"\"\"\u001b[39;00m\n\u001b[1;32m   1481\u001b[0m     \u001b[39mif\u001b[39;00m has_torch_function_unary(\u001b[39minput\u001b[39m):\n",
      "\u001b[0;31mKeyboardInterrupt\u001b[0m: "
     ]
    }
   ],
   "source": [
    "num_nodes = 4000\n",
    "d = 2\n",
    "n = [int(num_nodes/2), int(num_nodes/2)]\n",
    "\n",
    "p = [[0.5, 0.1], \n",
    "     [0.1, 0.7]]\n",
    "\n",
    "edge_index = stochastic_blockmodel_graph(n, p).to(device)\n",
    "edge_index_2 = torch.ones([num_nodes,num_nodes],).nonzero().t().contiguous()\n",
    "x = torch.rand(num_nodes,d).to(device)\n",
    "\n",
    "\n",
    "x_gd, cost_gd, iter = RDPG_GD_Armijo(x.squeeze(0), edge_index)\n",
    "x_gd = x_gd.to(device)\n",
    "loss = torch.norm((x_gd@x_gd.T - to_dense_adj(edge_index).squeeze(0)))\n",
    "print(\"Loss RDPG GD Armijo: \", loss)\n",
    "print(\"Armijo iterations: \", iter)\n",
    "\n",
    "x_lase = lase(x, edge_index, edge_index_2)\n",
    "x_lase = x_lase.detach()\n",
    "loss = torch.norm((x_lase@x_lase.T - to_dense_adj(edge_index).squeeze(0)))\n",
    "print(f\"Loss LASE shared weights ({gd_steps} layers): \", loss)\n",
    "x_lase = x_lase.to('cpu')\n",
    "\n",
    "fig, axes = plt.subplots(1, 2, figsize =(12,5))\n",
    "axes[0].set_title('RDPG GD Armijo')\n",
    "sns.heatmap(x_gd@x_gd.T, ax=axes[0])\n",
    "axes[1].set_title(f'Loss LASE shared weights ({gd_steps} layers)')\n",
    "sns.heatmap(x_lase@x_lase.T, ax=axes[1])\n",
    "plt.show()"
   ]
  },
  {
   "cell_type": "code",
   "execution_count": 42,
   "metadata": {},
   "outputs": [
    {
     "name": "stdout",
     "output_type": "stream",
     "text": [
      "43.6 ms ± 1.98 ms per loop (mean ± std. dev. of 10 runs, 10 loops each)\n"
     ]
    }
   ],
   "source": [
    "%timeit -n 10 -r 10 RDPG_GD_Armijo(x.squeeze(0), edge_index)"
   ]
  },
  {
   "cell_type": "code",
   "execution_count": 43,
   "metadata": {},
   "outputs": [
    {
     "name": "stdout",
     "output_type": "stream",
     "text": [
      "136 ms ± 1.58 ms per loop (mean ± std. dev. of 10 runs, 10 loops each)\n"
     ]
    }
   ],
   "source": [
    "%timeit -n 10 -r 10 lase(x, edge_index, edge_index_2)"
   ]
  }
 ],
 "metadata": {
  "kernelspec": {
   "display_name": "lase",
   "language": "python",
   "name": "python3"
  },
  "language_info": {
   "codemirror_mode": {
    "name": "ipython",
    "version": 3
   },
   "file_extension": ".py",
   "mimetype": "text/x-python",
   "name": "python",
   "nbconvert_exporter": "python",
   "pygments_lexer": "ipython3",
   "version": "3.10.12"
  },
  "orig_nbformat": 4
 },
 "nbformat": 4,
 "nbformat_minor": 2
}
